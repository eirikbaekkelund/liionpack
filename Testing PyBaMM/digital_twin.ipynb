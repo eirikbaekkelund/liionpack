{
 "cells": [
  {
   "cell_type": "markdown",
   "id": "85c934a2",
   "metadata": {},
   "source": [
    "# Digital Twin Experiment 👯‍♀️🔋"
   ]
  },
  {
   "cell_type": "code",
   "execution_count": 1,
   "id": "860c8a1a",
   "metadata": {},
   "outputs": [],
   "source": [
    "import pybamm\n",
    "import numpy as np\n",
    "from matplotlib import pyplot as plt\n",
    "import pandas as pd\n",
    "import liionpack\n"
   ]
  },
  {
   "cell_type": "code",
   "execution_count": 2,
   "id": "b98e9406",
   "metadata": {},
   "outputs": [
    {
     "data": {
      "text/plain": [
       "{'chemistry': 'lithium_ion',\n",
       " 'cell': 'LGM50_Chen2020',\n",
       " 'negative electrode': 'graphite_Chen2020',\n",
       " 'separator': 'separator_Chen2020',\n",
       " 'positive electrode': 'nmc_Chen2020',\n",
       " 'electrolyte': 'lipf6_Nyman2008',\n",
       " 'experiment': '1C_discharge_from_full_Chen2020',\n",
       " 'sei': 'example',\n",
       " 'citation': 'Chen2020'}"
      ]
     },
     "execution_count": 2,
     "metadata": {},
     "output_type": "execute_result"
    }
   ],
   "source": [
    "pybamm.parameter_sets.Chen2020"
   ]
  },
  {
   "cell_type": "code",
   "execution_count": 3,
   "id": "abb125d5",
   "metadata": {},
   "outputs": [
    {
     "data": {
      "text/plain": [
       "['/Users/eirikbaekkelund/opt/anaconda3/lib/python3.9/site-packages',\n",
       " '/Users/eirikbaekkelund/Desktop/RePack/Python',\n",
       " '/Users/eirikbaekkelund/opt/anaconda3/lib/python3.9/site-packages/pybamm/input/parameters']"
      ]
     },
     "execution_count": 3,
     "metadata": {},
     "output_type": "execute_result"
    }
   ],
   "source": [
    "pybamm.PARAMETER_PATH\n"
   ]
  },
  {
   "cell_type": "code",
   "execution_count": 4,
   "id": "c8d4c519",
   "metadata": {},
   "outputs": [],
   "source": [
    "# creates copy folder of all parameters \n",
    "%%bash\n",
    "pybamm_edit_parameter lithium_ion"
   ]
  },
  {
   "cell_type": "code",
   "execution_count": 6,
   "id": "9d382f33",
   "metadata": {},
   "outputs": [],
   "source": [
    "# creates copy of negative electrode parameters and csv file that can be made for tuning the params\n",
    "%%bash \n",
    "cp -r lithium_ion/negative_electrodes/graphite_Chen2020/. lithium_ion/negative_electrodes/test_parameters"
   ]
  },
  {
   "cell_type": "code",
   "execution_count": 7,
   "id": "889c4b3f",
   "metadata": {},
   "outputs": [],
   "source": [
    "# we need to tune / have all parameters to define a chemistry, so we can start from a default set\n",
    "chemistry = pybamm.parameter_sets.Chen2020"
   ]
  },
  {
   "cell_type": "code",
   "execution_count": 8,
   "id": "bdba434d",
   "metadata": {},
   "outputs": [
    {
     "data": {
      "text/plain": [
       "{'chemistry': 'lithium_ion',\n",
       " 'cell': 'LGM50_Chen2020',\n",
       " 'negative electrode': 'graphite_Chen2020',\n",
       " 'separator': 'separator_Chen2020',\n",
       " 'positive electrode': 'nmc_Chen2020',\n",
       " 'electrolyte': 'lipf6_Nyman2008',\n",
       " 'experiment': '1C_discharge_from_full_Chen2020',\n",
       " 'sei': 'example',\n",
       " 'citation': 'Chen2020'}"
      ]
     },
     "execution_count": 8,
     "metadata": {},
     "output_type": "execute_result"
    }
   ],
   "source": [
    "# dict with parameter where keys are params and values are read from csv files\n",
    "chemistry"
   ]
  },
  {
   "cell_type": "code",
   "execution_count": 9,
   "id": "c0b31e12",
   "metadata": {},
   "outputs": [],
   "source": [
    "# we can change chemistry by setting to user defined: name.csv - here i named it test_parameters\n",
    "chemistry['negative electrode'] = 'test_parameters'"
   ]
  },
  {
   "cell_type": "code",
   "execution_count": 10,
   "id": "24783542",
   "metadata": {},
   "outputs": [
    {
     "data": {
      "text/plain": [
       "{'chemistry': 'lithium_ion',\n",
       " 'cell': 'LGM50_Chen2020',\n",
       " 'negative electrode': 'test_parameters',\n",
       " 'separator': 'separator_Chen2020',\n",
       " 'positive electrode': 'nmc_Chen2020',\n",
       " 'electrolyte': 'lipf6_Nyman2008',\n",
       " 'experiment': '1C_discharge_from_full_Chen2020',\n",
       " 'sei': 'example',\n",
       " 'citation': 'Chen2020'}"
      ]
     },
     "execution_count": 10,
     "metadata": {},
     "output_type": "execute_result"
    }
   ],
   "source": [
    "chemistry"
   ]
  },
  {
   "cell_type": "code",
   "execution_count": 12,
   "id": "2eae399d",
   "metadata": {},
   "outputs": [],
   "source": [
    "parameter_values = pybamm.ParameterValues(chemistry = chemistry)"
   ]
  },
  {
   "cell_type": "code",
   "execution_count": 13,
   "id": "382dfc81",
   "metadata": {},
   "outputs": [
    {
     "data": {
      "text/plain": [
       "0.3"
      ]
     },
     "execution_count": 13,
     "metadata": {},
     "output_type": "execute_result"
    }
   ],
   "source": [
    "# I changed \"Negative electrode charge transfer coefficient\" from 0.5 to 0.3\n",
    "parameter_values['Negative electrode charge transfer coefficient']"
   ]
  },
  {
   "cell_type": "code",
   "execution_count": 22,
   "id": "2dec767e",
   "metadata": {},
   "outputs": [
    {
     "ename": "SyntaxError",
     "evalue": "invalid syntax (3025649900.py, line 3)",
     "output_type": "error",
     "traceback": [
      "\u001b[0;36m  File \u001b[0;32m\"/var/folders/3f/5b_39xqs2tlgzd30m4ll014r0000gn/T/ipykernel_46906/3025649900.py\"\u001b[0;36m, line \u001b[0;32m3\u001b[0m\n\u001b[0;31m    pybamm_add_parameter lithium_ion/negative_electrodes/test_parameters lithium_ion negative_electrodes\u001b[0m\n\u001b[0m                         ^\u001b[0m\n\u001b[0;31mSyntaxError\u001b[0m\u001b[0;31m:\u001b[0m invalid syntax\n"
     ]
    }
   ],
   "source": [
    "# take the new parameter set to pybamm for others to use by sending it into lithium_ion --> negative_electrodes\n",
    "%%bash\n",
    "pybamm_add_parameter lithium_ion/negative_electrodes/test_parameters lithium_ion negative_electrodes"
   ]
  },
  {
   "cell_type": "code",
   "execution_count": null,
   "id": "0fa2a765",
   "metadata": {},
   "outputs": [],
   "source": [
    "%%bash \n"
   ]
  }
 ],
 "metadata": {
  "kernelspec": {
   "display_name": "Python 3 (ipykernel)",
   "language": "python",
   "name": "python3"
  },
  "language_info": {
   "codemirror_mode": {
    "name": "ipython",
    "version": 3
   },
   "file_extension": ".py",
   "mimetype": "text/x-python",
   "name": "python",
   "nbconvert_exporter": "python",
   "pygments_lexer": "ipython3",
   "version": "3.9.7"
  }
 },
 "nbformat": 4,
 "nbformat_minor": 5
}
